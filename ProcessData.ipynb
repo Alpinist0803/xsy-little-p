{
 "cells": [
  {
   "cell_type": "code",
   "execution_count": 1,
   "metadata": {
    "collapsed": true,
    "ExecuteTime": {
     "end_time": "2023-11-08T16:35:39.116803400Z",
     "start_time": "2023-11-08T16:35:38.790676200Z"
    }
   },
   "outputs": [],
   "source": [
    "import requests\n",
    "import pandas as pd\n",
    "import sqlite3\n",
    "import time as tm\n",
    "from datetime import datetime, timedelta\n",
    "db_path = r'D:\\Rfiles\\量化投资学习\\database\\high_freq.db'"
   ]
  },
  {
   "cell_type": "markdown",
   "source": [
    "# 库表结构和数据类型"
   ],
   "metadata": {
    "collapsed": false
   }
  },
  {
   "cell_type": "code",
   "execution_count": 3,
   "outputs": [
    {
     "name": "stdout",
     "output_type": "stream",
     "text": [
      "Table:  Security_name\n",
      "Row count:  5288\n",
      "Column: THSCODE, Type: TEXT\n",
      "Column: SECURITY_NAME, Type: TEXT\n",
      "\n",
      "\n",
      "Table:  zhangtinggu\n",
      "Row count:  7413111\n",
      "Column: time, Type: TEXT\n",
      "Column: thscode, Type: TEXT\n",
      "Column: open, Type: REAL\n",
      "Column: high, Type: REAL\n",
      "Column: low, Type: REAL\n",
      "Column: close, Type: REAL\n",
      "Column: avgPrice, Type: REAL\n",
      "Column: volume, Type: REAL\n",
      "Column: amount, Type: REAL\n",
      "Column: change, Type: REAL\n",
      "Column: changeRatio, Type: REAL\n",
      "Column: turnoverRatio, Type: REAL\n",
      "Column: sellVolume, Type: REAL\n",
      "Column: buyVolume, Type: REAL\n",
      "Column: BBI, Type: REAL\n",
      "Column: MA, Type: REAL\n",
      "Column: MACD, Type: REAL\n",
      "Column: TRIX, Type: REAL\n",
      "Column: RSI, Type: REAL\n",
      "Column: ARBR, Type: REAL\n",
      "Column: BOLL, Type: REAL\n",
      "Column: VOSC, Type: REAL\n",
      "Column: ZDZB, Type: REAL\n",
      "\n",
      "\n",
      "Table:  zhangtinggu_Factors\n",
      "Row count:  24818\n",
      "Column: thscode, Type: TEXT\n",
      "Column: ths_stock_short_name_stock, Type: TEXT\n",
      "Column: ths_controlling_holder_held_ratio_stock, Type: TEXT\n",
      "Column: ths_the_sw_industry_index_code_stock, Type: TEXT\n",
      "Column: ths_bod_num_stock, Type: INTEGER\n",
      "Column: ths_techcore_num_stock, Type: REAL\n",
      "Column: ths_chairman_held_num_stock, Type: TEXT\n",
      "Column: ths_top10_hlolder_held_ratio_stock, Type: REAL\n",
      "Column: ths_float_holder_held_ratio_stock, Type: REAL\n",
      "Column: ths_accounts_payable_pit_stock, Type: REAL\n",
      "Column: ths_operating_total_revenue_pit_stock, Type: REAL\n",
      "Column: ths_shhk_to_float_shares_stock, Type: REAL\n",
      "Column: ths_eps_basic_stock, Type: REAL\n",
      "Column: ths_nav_ps_stock, Type: REAL\n",
      "Column: ths_oips_stock, Type: REAL\n",
      "Column: ths_fore_eps_fy1_stock, Type: REAL\n",
      "Column: ths_pe_lyr_stock, Type: REAL\n",
      "Column: ths_pb_mrq_stock, Type: REAL\n",
      "Column: ths_dividend_rate_stock_stock, Type: REAL\n",
      "Column: ths_open_price_stock, Type: REAL\n",
      "Column: ths_high_price_stock, Type: REAL\n",
      "Column: ths_low_stock, Type: REAL\n",
      "Column: ths_close_price_stock, Type: REAL\n",
      "Column: ths_chg_ratio_stock, Type: REAL\n",
      "Column: ths_chg_stock, Type: REAL\n",
      "Column: ths_vol_btin_stock, Type: REAL\n",
      "Column: ths_amt_btin_stock, Type: REAL\n",
      "Column: ths_trans_num_stock, Type: INTEGER\n",
      "Column: ths_vaild_turnover_stock, Type: REAL\n",
      "Column: ths_up_days_stock, Type: INTEGER\n",
      "Column: ths_down_days_stock, Type: INTEGER\n",
      "Column: ths_down_valid_break_ma_stock, Type: INTEGER\n",
      "Column: ths_up_valid_break_ma_stock, Type: INTEGER\n",
      "Column: ths_vol_ratio_stock, Type: REAL\n",
      "Column: ths_vma_stock, Type: REAL\n",
      "Column: ths_vstd_stock, Type: REAL\n",
      "Column: ths_arbr_stock, Type: REAL\n",
      "Column: ths_mfi_stock, Type: REAL\n",
      "Column: ths_ddi_stock, Type: REAL\n",
      "Column: ths_macd_stock, Type: REAL\n",
      "Column: ths_rsi_stock, Type: REAL\n",
      "Column: ths_adtm_stock, Type: REAL\n",
      "Column: ths_boll_stock, Type: REAL\n",
      "Column: ths_dptb_stock, Type: REAL\n",
      "Column: ths_mi_stock, Type: REAL\n",
      "Column: ths_std_stock, Type: REAL\n",
      "Column: ths_company_patent_quantity_stock, Type: REAL\n"
     ]
    }
   ],
   "source": [
    "conn = sqlite3.connect(db_path)\n",
    "cursor = conn.cursor()\n",
    "cursor.execute(\"SELECT name FROM sqlite_master WHERE type='table';\")\n",
    "tables = cursor.fetchall()\n",
    "\n",
    "# 遍历表名并获取每个表的列信息\n",
    "for table in tables:\n",
    "    table_name = table[0]\n",
    "    print(\"Table: \", table_name)\n",
    "\n",
    "    cursor.execute(\"SELECT COUNT(*) FROM {}\".format(table_name))\n",
    "    row_count = cursor.fetchone()[0]\n",
    "    print(\"Row count: \", row_count)\n",
    "\n",
    "    cursor.execute(\"PRAGMA table_info({})\".format(table_name))\n",
    "    columns = cursor.fetchall()\n",
    "    for column in columns:\n",
    "        column_name = column[1]\n",
    "        column_type = column[2]\n",
    "        print(\"Column: {}, Type: {}\".format(column_name, column_type))\n",
    "\n",
    "    print(\"\\n\")\n",
    "conn.close()\n"
   ],
   "metadata": {
    "collapsed": false,
    "pycharm": {
     "name": "#%%\n"
    },
    "ExecuteTime": {
     "end_time": "2023-11-08T16:36:05.283547800Z",
     "start_time": "2023-11-08T16:36:02.692476200Z"
    }
   }
  },
  {
   "cell_type": "code",
   "execution_count": 10,
   "outputs": [
    {
     "data": {
      "text/plain": "         thscode ths_stock_short_name_stock  \\\n24817  603390.SH                       通达电气   \n24816  002173.SZ                       创新医疗   \n24815  001270.SZ                       铖昌科技   \n24814  603123.SH                       翠微股份   \n24813  300029.SZ                       ST天龙   \n...          ...                        ...   \n4      002406.SZ                       远东传动   \n3      002045.SZ                       国光电器   \n2      601633.SH                       长城汽车   \n1      600203.SH                       福日电子   \n0      600100.SH                       同方股份   \n\n      ths_controlling_holder_held_ratio_stock  \\\n24817                         33.3700,29.1200   \n24816                                 17.2800   \n24815                                 47.2200   \n24814                                 29.4600   \n24813                                 12.7700   \n...                                       ...   \n4                                     23.4500   \n3                                     13.4700   \n2                                     60.2000   \n1                                     15.8900   \n0                                     30.1100   \n\n      ths_the_sw_industry_index_code_stock  ths_bod_num_stock  \\\n24817                               801880                  9   \n24816                               801150                  9   \n24815                               801740                  9   \n24814                               801200                  9   \n24813                               801720                  5   \n...                                    ...                ...   \n4                                   801880                  9   \n3                                   801080                  7   \n2                                   801880                  7   \n1                                   801080                  9   \n0                                   801750                  7   \n\n       ths_techcore_num_stock ths_chairman_held_num_stock  \\\n24817                     5.0                        None   \n24816                     NaN                        None   \n24815                     3.0                        None   \n24814                     NaN                        None   \n24813                     NaN                        None   \n...                       ...                         ...   \n4                         NaN                        None   \n3                         NaN                        None   \n2                        15.0                        None   \n1                         NaN                        None   \n0                         NaN                        None   \n\n       ths_top10_hlolder_held_ratio_stock  ths_float_holder_held_ratio_stock  \\\n24817                               66.45                            33.3717   \n24816                               42.78                            17.2850   \n24815                               65.04                             2.6764   \n24814                               59.36                            21.5455   \n24813                               39.54                            12.7669   \n...                                   ...                                ...   \n4                                   35.68                             5.8632   \n3                                   37.48                            13.4739   \n2                                   92.11                            60.2028   \n1                                   38.25                            15.8914   \n0                                   38.72                            18.5780   \n\n       ths_accounts_payable_pit_stock  ...  ths_mfi_stock  ths_ddi_stock  \\\n24817                    1.185173e+08  ...      70.895421       0.713710   \n24816                    1.968014e+08  ...      47.198291      -0.149068   \n24815                    8.490958e+06  ...      64.129894       0.123060   \n24814                    4.156734e+08  ...      34.818437      -0.307992   \n24813                    1.449271e+08  ...      64.792990       0.081761   \n...                               ...  ...            ...            ...   \n4                        2.405979e+08  ...      46.669069      -0.378378   \n3                        8.207424e+08  ...      54.510813       0.031609   \n2                        2.589650e+10  ...      55.597729       0.019608   \n1                        8.825115e+08  ...      82.833501       0.375912   \n0                        7.699447e+09  ...      52.489050       0.094225   \n\n       ths_macd_stock  ths_rsi_stock  ths_adtm_stock  ths_boll_stock  \\\n24817        0.439622      93.331442        0.838346        7.289608   \n24816       -0.104597      56.539946        0.678082        7.505100   \n24815        0.520107      44.708385        0.525306       76.672686   \n24814        0.429268      26.670255        0.324826       11.529183   \n24813        0.344963      64.084435        0.828269        5.929262   \n...               ...            ...             ...             ...   \n4           -0.085660      48.742127        0.642686        5.739873   \n3            0.496782      60.107165        0.781931       12.347805   \n2            0.777263      57.913245        0.685686       24.506672   \n1            0.544315      56.582067        0.781127        5.767175   \n0            0.231292      60.737067        0.563934        7.057419   \n\n       ths_dptb_stock  ths_mi_stock  ths_std_stock  \\\n24817        0.285714          2.93       0.708179   \n24816        0.857143         -0.07       0.481414   \n24815        1.000000          5.95       3.401834   \n24814        0.571429         -2.33       1.423435   \n24813        0.428571          0.80       0.702864   \n...               ...           ...            ...   \n4            0.571429         -1.15       0.580372   \n3            0.714286         -0.55       1.060146   \n2            0.571429         -1.01       1.951092   \n1            0.714286          1.52       0.861213   \n0            0.857143          0.10       0.449246   \n\n       ths_company_patent_quantity_stock  \n24817                              175.0  \n24816                               20.0  \n24815                               21.0  \n24814                                NaN  \n24813                               75.0  \n...                                  ...  \n4                                  165.0  \n3                                  219.0  \n2                                 9936.0  \n1                                    3.0  \n0                                  418.0  \n\n[24818 rows x 47 columns]",
      "text/html": "<div>\n<style scoped>\n    .dataframe tbody tr th:only-of-type {\n        vertical-align: middle;\n    }\n\n    .dataframe tbody tr th {\n        vertical-align: top;\n    }\n\n    .dataframe thead th {\n        text-align: right;\n    }\n</style>\n<table border=\"1\" class=\"dataframe\">\n  <thead>\n    <tr style=\"text-align: right;\">\n      <th></th>\n      <th>thscode</th>\n      <th>ths_stock_short_name_stock</th>\n      <th>ths_controlling_holder_held_ratio_stock</th>\n      <th>ths_the_sw_industry_index_code_stock</th>\n      <th>ths_bod_num_stock</th>\n      <th>ths_techcore_num_stock</th>\n      <th>ths_chairman_held_num_stock</th>\n      <th>ths_top10_hlolder_held_ratio_stock</th>\n      <th>ths_float_holder_held_ratio_stock</th>\n      <th>ths_accounts_payable_pit_stock</th>\n      <th>...</th>\n      <th>ths_mfi_stock</th>\n      <th>ths_ddi_stock</th>\n      <th>ths_macd_stock</th>\n      <th>ths_rsi_stock</th>\n      <th>ths_adtm_stock</th>\n      <th>ths_boll_stock</th>\n      <th>ths_dptb_stock</th>\n      <th>ths_mi_stock</th>\n      <th>ths_std_stock</th>\n      <th>ths_company_patent_quantity_stock</th>\n    </tr>\n  </thead>\n  <tbody>\n    <tr>\n      <th>24817</th>\n      <td>603390.SH</td>\n      <td>通达电气</td>\n      <td>33.3700,29.1200</td>\n      <td>801880</td>\n      <td>9</td>\n      <td>5.0</td>\n      <td>None</td>\n      <td>66.45</td>\n      <td>33.3717</td>\n      <td>1.185173e+08</td>\n      <td>...</td>\n      <td>70.895421</td>\n      <td>0.713710</td>\n      <td>0.439622</td>\n      <td>93.331442</td>\n      <td>0.838346</td>\n      <td>7.289608</td>\n      <td>0.285714</td>\n      <td>2.93</td>\n      <td>0.708179</td>\n      <td>175.0</td>\n    </tr>\n    <tr>\n      <th>24816</th>\n      <td>002173.SZ</td>\n      <td>创新医疗</td>\n      <td>17.2800</td>\n      <td>801150</td>\n      <td>9</td>\n      <td>NaN</td>\n      <td>None</td>\n      <td>42.78</td>\n      <td>17.2850</td>\n      <td>1.968014e+08</td>\n      <td>...</td>\n      <td>47.198291</td>\n      <td>-0.149068</td>\n      <td>-0.104597</td>\n      <td>56.539946</td>\n      <td>0.678082</td>\n      <td>7.505100</td>\n      <td>0.857143</td>\n      <td>-0.07</td>\n      <td>0.481414</td>\n      <td>20.0</td>\n    </tr>\n    <tr>\n      <th>24815</th>\n      <td>001270.SZ</td>\n      <td>铖昌科技</td>\n      <td>47.2200</td>\n      <td>801740</td>\n      <td>9</td>\n      <td>3.0</td>\n      <td>None</td>\n      <td>65.04</td>\n      <td>2.6764</td>\n      <td>8.490958e+06</td>\n      <td>...</td>\n      <td>64.129894</td>\n      <td>0.123060</td>\n      <td>0.520107</td>\n      <td>44.708385</td>\n      <td>0.525306</td>\n      <td>76.672686</td>\n      <td>1.000000</td>\n      <td>5.95</td>\n      <td>3.401834</td>\n      <td>21.0</td>\n    </tr>\n    <tr>\n      <th>24814</th>\n      <td>603123.SH</td>\n      <td>翠微股份</td>\n      <td>29.4600</td>\n      <td>801200</td>\n      <td>9</td>\n      <td>NaN</td>\n      <td>None</td>\n      <td>59.36</td>\n      <td>21.5455</td>\n      <td>4.156734e+08</td>\n      <td>...</td>\n      <td>34.818437</td>\n      <td>-0.307992</td>\n      <td>0.429268</td>\n      <td>26.670255</td>\n      <td>0.324826</td>\n      <td>11.529183</td>\n      <td>0.571429</td>\n      <td>-2.33</td>\n      <td>1.423435</td>\n      <td>NaN</td>\n    </tr>\n    <tr>\n      <th>24813</th>\n      <td>300029.SZ</td>\n      <td>ST天龙</td>\n      <td>12.7700</td>\n      <td>801720</td>\n      <td>5</td>\n      <td>NaN</td>\n      <td>None</td>\n      <td>39.54</td>\n      <td>12.7669</td>\n      <td>1.449271e+08</td>\n      <td>...</td>\n      <td>64.792990</td>\n      <td>0.081761</td>\n      <td>0.344963</td>\n      <td>64.084435</td>\n      <td>0.828269</td>\n      <td>5.929262</td>\n      <td>0.428571</td>\n      <td>0.80</td>\n      <td>0.702864</td>\n      <td>75.0</td>\n    </tr>\n    <tr>\n      <th>...</th>\n      <td>...</td>\n      <td>...</td>\n      <td>...</td>\n      <td>...</td>\n      <td>...</td>\n      <td>...</td>\n      <td>...</td>\n      <td>...</td>\n      <td>...</td>\n      <td>...</td>\n      <td>...</td>\n      <td>...</td>\n      <td>...</td>\n      <td>...</td>\n      <td>...</td>\n      <td>...</td>\n      <td>...</td>\n      <td>...</td>\n      <td>...</td>\n      <td>...</td>\n      <td>...</td>\n    </tr>\n    <tr>\n      <th>4</th>\n      <td>002406.SZ</td>\n      <td>远东传动</td>\n      <td>23.4500</td>\n      <td>801880</td>\n      <td>9</td>\n      <td>NaN</td>\n      <td>None</td>\n      <td>35.68</td>\n      <td>5.8632</td>\n      <td>2.405979e+08</td>\n      <td>...</td>\n      <td>46.669069</td>\n      <td>-0.378378</td>\n      <td>-0.085660</td>\n      <td>48.742127</td>\n      <td>0.642686</td>\n      <td>5.739873</td>\n      <td>0.571429</td>\n      <td>-1.15</td>\n      <td>0.580372</td>\n      <td>165.0</td>\n    </tr>\n    <tr>\n      <th>3</th>\n      <td>002045.SZ</td>\n      <td>国光电器</td>\n      <td>13.4700</td>\n      <td>801080</td>\n      <td>7</td>\n      <td>NaN</td>\n      <td>None</td>\n      <td>37.48</td>\n      <td>13.4739</td>\n      <td>8.207424e+08</td>\n      <td>...</td>\n      <td>54.510813</td>\n      <td>0.031609</td>\n      <td>0.496782</td>\n      <td>60.107165</td>\n      <td>0.781931</td>\n      <td>12.347805</td>\n      <td>0.714286</td>\n      <td>-0.55</td>\n      <td>1.060146</td>\n      <td>219.0</td>\n    </tr>\n    <tr>\n      <th>2</th>\n      <td>601633.SH</td>\n      <td>长城汽车</td>\n      <td>60.2000</td>\n      <td>801880</td>\n      <td>7</td>\n      <td>15.0</td>\n      <td>None</td>\n      <td>92.11</td>\n      <td>60.2028</td>\n      <td>2.589650e+10</td>\n      <td>...</td>\n      <td>55.597729</td>\n      <td>0.019608</td>\n      <td>0.777263</td>\n      <td>57.913245</td>\n      <td>0.685686</td>\n      <td>24.506672</td>\n      <td>0.571429</td>\n      <td>-1.01</td>\n      <td>1.951092</td>\n      <td>9936.0</td>\n    </tr>\n    <tr>\n      <th>1</th>\n      <td>600203.SH</td>\n      <td>福日电子</td>\n      <td>15.8900</td>\n      <td>801080</td>\n      <td>9</td>\n      <td>NaN</td>\n      <td>None</td>\n      <td>38.25</td>\n      <td>15.8914</td>\n      <td>8.825115e+08</td>\n      <td>...</td>\n      <td>82.833501</td>\n      <td>0.375912</td>\n      <td>0.544315</td>\n      <td>56.582067</td>\n      <td>0.781127</td>\n      <td>5.767175</td>\n      <td>0.714286</td>\n      <td>1.52</td>\n      <td>0.861213</td>\n      <td>3.0</td>\n    </tr>\n    <tr>\n      <th>0</th>\n      <td>600100.SH</td>\n      <td>同方股份</td>\n      <td>30.1100</td>\n      <td>801750</td>\n      <td>7</td>\n      <td>NaN</td>\n      <td>None</td>\n      <td>38.72</td>\n      <td>18.5780</td>\n      <td>7.699447e+09</td>\n      <td>...</td>\n      <td>52.489050</td>\n      <td>0.094225</td>\n      <td>0.231292</td>\n      <td>60.737067</td>\n      <td>0.563934</td>\n      <td>7.057419</td>\n      <td>0.857143</td>\n      <td>0.10</td>\n      <td>0.449246</td>\n      <td>418.0</td>\n    </tr>\n  </tbody>\n</table>\n<p>24818 rows × 47 columns</p>\n</div>"
     },
     "execution_count": 10,
     "metadata": {},
     "output_type": "execute_result"
    }
   ],
   "source": [
    "conn = sqlite3.connect(db_path)\n",
    "\n",
    "df = pd.read_sql(\"SELECT * FROM zhangtinggu_Factors\", conn)\n",
    "df = df.iloc[::-1]\n",
    "df"
   ],
   "metadata": {
    "collapsed": false,
    "ExecuteTime": {
     "end_time": "2023-11-08T17:52:36.482240200Z",
     "start_time": "2023-11-08T17:52:35.906777700Z"
    }
   }
  },
  {
   "cell_type": "code",
   "execution_count": 11,
   "outputs": [
    {
     "data": {
      "text/plain": "         thscode ths_stock_short_name_stock  \\\n21144  000004.SZ                       国华网安   \n19260  000004.SZ                       国华网安   \n12666  000004.SZ                       国华网安   \n23028  000004.SZ                       国华网安   \n106    000004.SZ                       国华网安   \n...          ...                        ...   \n13916  688687.SH                       凯因科技   \n20824  688687.SH                       凯因科技   \n11090  688687.SH                       凯因科技   \n24603  688687.SH                       凯因科技   \n8892   688687.SH                       凯因科技   \n\n      ths_controlling_holder_held_ratio_stock  \\\n21144                                 18.2200   \n19260                                 18.2200   \n12666                                 18.2200   \n23028                                 18.2200   \n106                                   18.2900   \n...                                       ...   \n13916                                 22.4700   \n20824                                 22.4700   \n11090                                 22.4700   \n24603                                 22.4700   \n8892                                  22.4700   \n\n      ths_the_sw_industry_index_code_stock  ths_bod_num_stock  \\\n21144                               801750                  5   \n19260                               801750                  5   \n12666                               801750                  5   \n23028                               801750                  5   \n106                                 801750                  5   \n...                                    ...                ...   \n13916                                                       9   \n20824                                                       9   \n11090                               801150                  9   \n24603                               801150                  9   \n8892                                801150                  9   \n\n       ths_techcore_num_stock ths_chairman_held_num_stock  \\\n21144                     NaN                        None   \n19260                     NaN                        None   \n12666                     NaN                        None   \n23028                     NaN                        None   \n106                       NaN                        None   \n...                       ...                         ...   \n13916                     5.0                        None   \n20824                     5.0                        None   \n11090                     5.0                        None   \n24603                     5.0                        None   \n8892                      5.0                        None   \n\n       ths_top10_hlolder_held_ratio_stock  ths_float_holder_held_ratio_stock  \\\n21144                               38.26                            18.2200   \n19260                               38.26                            18.2200   \n12666                               38.26                            18.2200   \n23028                               38.26                            18.2200   \n106                                 38.26                            18.2858   \n...                                   ...                                ...   \n13916                               39.71                             2.2000   \n20824                               39.71                             2.2000   \n11090                               39.71                             2.2000   \n24603                               39.71                             2.2000   \n8892                                39.71                             2.2000   \n\n       ths_accounts_payable_pit_stock  ...  ths_mfi_stock  ths_ddi_stock  \\\n21144                    9.097724e+07  ...      35.632925      -0.642129   \n19260                    9.097724e+07  ...      35.460733      -0.341108   \n12666                    9.097724e+07  ...      60.378845      -0.010189   \n23028                    9.097724e+07  ...      55.937084      -0.333333   \n106                      9.097724e+07  ...      35.331423      -0.365591   \n...                               ...  ...            ...            ...   \n13916                    2.912839e+08  ...      59.143017       0.509872   \n20824                    2.912839e+08  ...      63.861656      -0.043928   \n11090                    2.912839e+08  ...      59.378478       0.653710   \n24603                    2.912839e+08  ...      58.712986       0.470588   \n8892                     2.912839e+08  ...      59.378478       0.653710   \n\n       ths_macd_stock  ths_rsi_stock  ths_adtm_stock  ths_boll_stock  \\\n21144       -0.545291      23.047736        0.225541       15.338615   \n19260       -0.567686      42.898841        0.380952       14.712631   \n12666       -0.321770      60.094441        0.327869       15.117429   \n23028       -0.159305      41.248223        0.329918       16.117309   \n106         -0.034525      42.523028        0.442105       15.526606   \n...               ...            ...             ...             ...   \n13916        0.154785      71.245354        0.698975       18.252788   \n20824       -1.195035      57.540808       -0.115741       18.147297   \n11090        1.044579      66.764319        0.692063       17.245371   \n24603        2.062002      72.649189        0.422827       20.274861   \n8892         1.044579      66.764319        0.692063       17.245371   \n\n       ths_dptb_stock  ths_mi_stock  ths_std_stock  \\\n21144        0.714286         -3.41       1.518449   \n19260        0.857143         -1.20       1.665254   \n12666        0.571429         -0.13       0.627118   \n23028        0.857143         -2.87       1.438119   \n106          0.571429         -1.67       0.729322   \n...               ...           ...            ...   \n13916        0.571429          2.07       0.941505   \n20824        0.714286          0.25       1.098060   \n11090        0.428571          3.57       1.983133   \n24603        0.857143          6.32       2.828654   \n8892         0.428571          3.57       1.983133   \n\n       ths_company_patent_quantity_stock  \n21144                                1.0  \n19260                                1.0  \n12666                                1.0  \n23028                                1.0  \n106                                  1.0  \n...                                  ...  \n13916                               63.0  \n20824                               63.0  \n11090                               63.0  \n24603                               63.0  \n8892                                63.0  \n\n[24818 rows x 47 columns]",
      "text/html": "<div>\n<style scoped>\n    .dataframe tbody tr th:only-of-type {\n        vertical-align: middle;\n    }\n\n    .dataframe tbody tr th {\n        vertical-align: top;\n    }\n\n    .dataframe thead th {\n        text-align: right;\n    }\n</style>\n<table border=\"1\" class=\"dataframe\">\n  <thead>\n    <tr style=\"text-align: right;\">\n      <th></th>\n      <th>thscode</th>\n      <th>ths_stock_short_name_stock</th>\n      <th>ths_controlling_holder_held_ratio_stock</th>\n      <th>ths_the_sw_industry_index_code_stock</th>\n      <th>ths_bod_num_stock</th>\n      <th>ths_techcore_num_stock</th>\n      <th>ths_chairman_held_num_stock</th>\n      <th>ths_top10_hlolder_held_ratio_stock</th>\n      <th>ths_float_holder_held_ratio_stock</th>\n      <th>ths_accounts_payable_pit_stock</th>\n      <th>...</th>\n      <th>ths_mfi_stock</th>\n      <th>ths_ddi_stock</th>\n      <th>ths_macd_stock</th>\n      <th>ths_rsi_stock</th>\n      <th>ths_adtm_stock</th>\n      <th>ths_boll_stock</th>\n      <th>ths_dptb_stock</th>\n      <th>ths_mi_stock</th>\n      <th>ths_std_stock</th>\n      <th>ths_company_patent_quantity_stock</th>\n    </tr>\n  </thead>\n  <tbody>\n    <tr>\n      <th>21144</th>\n      <td>000004.SZ</td>\n      <td>国华网安</td>\n      <td>18.2200</td>\n      <td>801750</td>\n      <td>5</td>\n      <td>NaN</td>\n      <td>None</td>\n      <td>38.26</td>\n      <td>18.2200</td>\n      <td>9.097724e+07</td>\n      <td>...</td>\n      <td>35.632925</td>\n      <td>-0.642129</td>\n      <td>-0.545291</td>\n      <td>23.047736</td>\n      <td>0.225541</td>\n      <td>15.338615</td>\n      <td>0.714286</td>\n      <td>-3.41</td>\n      <td>1.518449</td>\n      <td>1.0</td>\n    </tr>\n    <tr>\n      <th>19260</th>\n      <td>000004.SZ</td>\n      <td>国华网安</td>\n      <td>18.2200</td>\n      <td>801750</td>\n      <td>5</td>\n      <td>NaN</td>\n      <td>None</td>\n      <td>38.26</td>\n      <td>18.2200</td>\n      <td>9.097724e+07</td>\n      <td>...</td>\n      <td>35.460733</td>\n      <td>-0.341108</td>\n      <td>-0.567686</td>\n      <td>42.898841</td>\n      <td>0.380952</td>\n      <td>14.712631</td>\n      <td>0.857143</td>\n      <td>-1.20</td>\n      <td>1.665254</td>\n      <td>1.0</td>\n    </tr>\n    <tr>\n      <th>12666</th>\n      <td>000004.SZ</td>\n      <td>国华网安</td>\n      <td>18.2200</td>\n      <td>801750</td>\n      <td>5</td>\n      <td>NaN</td>\n      <td>None</td>\n      <td>38.26</td>\n      <td>18.2200</td>\n      <td>9.097724e+07</td>\n      <td>...</td>\n      <td>60.378845</td>\n      <td>-0.010189</td>\n      <td>-0.321770</td>\n      <td>60.094441</td>\n      <td>0.327869</td>\n      <td>15.117429</td>\n      <td>0.571429</td>\n      <td>-0.13</td>\n      <td>0.627118</td>\n      <td>1.0</td>\n    </tr>\n    <tr>\n      <th>23028</th>\n      <td>000004.SZ</td>\n      <td>国华网安</td>\n      <td>18.2200</td>\n      <td>801750</td>\n      <td>5</td>\n      <td>NaN</td>\n      <td>None</td>\n      <td>38.26</td>\n      <td>18.2200</td>\n      <td>9.097724e+07</td>\n      <td>...</td>\n      <td>55.937084</td>\n      <td>-0.333333</td>\n      <td>-0.159305</td>\n      <td>41.248223</td>\n      <td>0.329918</td>\n      <td>16.117309</td>\n      <td>0.857143</td>\n      <td>-2.87</td>\n      <td>1.438119</td>\n      <td>1.0</td>\n    </tr>\n    <tr>\n      <th>106</th>\n      <td>000004.SZ</td>\n      <td>国华网安</td>\n      <td>18.2900</td>\n      <td>801750</td>\n      <td>5</td>\n      <td>NaN</td>\n      <td>None</td>\n      <td>38.26</td>\n      <td>18.2858</td>\n      <td>9.097724e+07</td>\n      <td>...</td>\n      <td>35.331423</td>\n      <td>-0.365591</td>\n      <td>-0.034525</td>\n      <td>42.523028</td>\n      <td>0.442105</td>\n      <td>15.526606</td>\n      <td>0.571429</td>\n      <td>-1.67</td>\n      <td>0.729322</td>\n      <td>1.0</td>\n    </tr>\n    <tr>\n      <th>...</th>\n      <td>...</td>\n      <td>...</td>\n      <td>...</td>\n      <td>...</td>\n      <td>...</td>\n      <td>...</td>\n      <td>...</td>\n      <td>...</td>\n      <td>...</td>\n      <td>...</td>\n      <td>...</td>\n      <td>...</td>\n      <td>...</td>\n      <td>...</td>\n      <td>...</td>\n      <td>...</td>\n      <td>...</td>\n      <td>...</td>\n      <td>...</td>\n      <td>...</td>\n      <td>...</td>\n    </tr>\n    <tr>\n      <th>13916</th>\n      <td>688687.SH</td>\n      <td>凯因科技</td>\n      <td>22.4700</td>\n      <td></td>\n      <td>9</td>\n      <td>5.0</td>\n      <td>None</td>\n      <td>39.71</td>\n      <td>2.2000</td>\n      <td>2.912839e+08</td>\n      <td>...</td>\n      <td>59.143017</td>\n      <td>0.509872</td>\n      <td>0.154785</td>\n      <td>71.245354</td>\n      <td>0.698975</td>\n      <td>18.252788</td>\n      <td>0.571429</td>\n      <td>2.07</td>\n      <td>0.941505</td>\n      <td>63.0</td>\n    </tr>\n    <tr>\n      <th>20824</th>\n      <td>688687.SH</td>\n      <td>凯因科技</td>\n      <td>22.4700</td>\n      <td></td>\n      <td>9</td>\n      <td>5.0</td>\n      <td>None</td>\n      <td>39.71</td>\n      <td>2.2000</td>\n      <td>2.912839e+08</td>\n      <td>...</td>\n      <td>63.861656</td>\n      <td>-0.043928</td>\n      <td>-1.195035</td>\n      <td>57.540808</td>\n      <td>-0.115741</td>\n      <td>18.147297</td>\n      <td>0.714286</td>\n      <td>0.25</td>\n      <td>1.098060</td>\n      <td>63.0</td>\n    </tr>\n    <tr>\n      <th>11090</th>\n      <td>688687.SH</td>\n      <td>凯因科技</td>\n      <td>22.4700</td>\n      <td>801150</td>\n      <td>9</td>\n      <td>5.0</td>\n      <td>None</td>\n      <td>39.71</td>\n      <td>2.2000</td>\n      <td>2.912839e+08</td>\n      <td>...</td>\n      <td>59.378478</td>\n      <td>0.653710</td>\n      <td>1.044579</td>\n      <td>66.764319</td>\n      <td>0.692063</td>\n      <td>17.245371</td>\n      <td>0.428571</td>\n      <td>3.57</td>\n      <td>1.983133</td>\n      <td>63.0</td>\n    </tr>\n    <tr>\n      <th>24603</th>\n      <td>688687.SH</td>\n      <td>凯因科技</td>\n      <td>22.4700</td>\n      <td>801150</td>\n      <td>9</td>\n      <td>5.0</td>\n      <td>None</td>\n      <td>39.71</td>\n      <td>2.2000</td>\n      <td>2.912839e+08</td>\n      <td>...</td>\n      <td>58.712986</td>\n      <td>0.470588</td>\n      <td>2.062002</td>\n      <td>72.649189</td>\n      <td>0.422827</td>\n      <td>20.274861</td>\n      <td>0.857143</td>\n      <td>6.32</td>\n      <td>2.828654</td>\n      <td>63.0</td>\n    </tr>\n    <tr>\n      <th>8892</th>\n      <td>688687.SH</td>\n      <td>凯因科技</td>\n      <td>22.4700</td>\n      <td>801150</td>\n      <td>9</td>\n      <td>5.0</td>\n      <td>None</td>\n      <td>39.71</td>\n      <td>2.2000</td>\n      <td>2.912839e+08</td>\n      <td>...</td>\n      <td>59.378478</td>\n      <td>0.653710</td>\n      <td>1.044579</td>\n      <td>66.764319</td>\n      <td>0.692063</td>\n      <td>17.245371</td>\n      <td>0.428571</td>\n      <td>3.57</td>\n      <td>1.983133</td>\n      <td>63.0</td>\n    </tr>\n  </tbody>\n</table>\n<p>24818 rows × 47 columns</p>\n</div>"
     },
     "execution_count": 11,
     "metadata": {},
     "output_type": "execute_result"
    }
   ],
   "source": [
    "df_sorted = df.sort_values(by=['thscode'], ascending=True)\n",
    "\n",
    "# 按照索引进行排序\n",
    "# df_sorted = df_sorted.sort_index(ascending=False)\n",
    "df_sorted"
   ],
   "metadata": {
    "collapsed": false,
    "ExecuteTime": {
     "end_time": "2023-11-08T17:52:40.604021500Z",
     "start_time": "2023-11-08T17:52:40.532213700Z"
    }
   }
  }
 ],
 "metadata": {
  "kernelspec": {
   "display_name": "Python 3",
   "language": "python",
   "name": "python3"
  },
  "language_info": {
   "codemirror_mode": {
    "name": "ipython",
    "version": 2
   },
   "file_extension": ".py",
   "mimetype": "text/x-python",
   "name": "python",
   "nbconvert_exporter": "python",
   "pygments_lexer": "ipython2",
   "version": "2.7.6"
  }
 },
 "nbformat": 4,
 "nbformat_minor": 0
}
