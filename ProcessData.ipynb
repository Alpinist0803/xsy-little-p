{
 "cells": [
  {
   "cell_type": "code",
   "execution_count": 2,
   "metadata": {
    "collapsed": true,
    "ExecuteTime": {
     "end_time": "2023-11-01T19:02:34.195798200Z",
     "start_time": "2023-11-01T19:02:33.846732200Z"
    }
   },
   "outputs": [],
   "source": [
    "import requests\n",
    "import pandas as pd\n",
    "import sqlite3\n",
    "import time as tm\n",
    "from datetime import datetime, timedelta\n",
    "db_path = r'D:\\Rfiles\\量化投资学习\\database\\high_freq.db'"
   ]
  },
  {
   "cell_type": "markdown",
   "source": [
    "# 库表结构和数据类型"
   ],
   "metadata": {
    "collapsed": false
   }
  },
  {
   "cell_type": "code",
   "execution_count": 4,
   "outputs": [
    {
     "name": "stdout",
     "output_type": "stream",
     "text": [
      "Table:  Popular_stock\n",
      "Row count:  3187225\n",
      "Column: time, Type: TEXT\n",
      "Column: thscode, Type: TEXT\n",
      "Column: open, Type: REAL\n",
      "Column: high, Type: REAL\n",
      "Column: low, Type: REAL\n",
      "Column: close, Type: REAL\n",
      "Column: avgPrice, Type: REAL\n",
      "Column: volume, Type: REAL\n",
      "Column: amount, Type: REAL\n",
      "Column: change, Type: REAL\n",
      "Column: changeRatio, Type: REAL\n",
      "Column: turnoverRatio, Type: REAL\n",
      "Column: sellVolume, Type: INTEGER\n",
      "Column: buyVolume, Type: INTEGER\n",
      "Column: BBI, Type: REAL\n",
      "Column: MA, Type: REAL\n",
      "Column: MACD, Type: REAL\n",
      "Column: TRIX, Type: REAL\n",
      "Column: RSI, Type: REAL\n",
      "Column: ARBR, Type: REAL\n",
      "Column: BOLL, Type: REAL\n",
      "Column: VOSC, Type: REAL\n",
      "Column: ZDZB, Type: REAL\n",
      "\n",
      "\n",
      "Table:  limit_up_stock\n",
      "Row count:  3543905\n",
      "Column: time, Type: TEXT\n",
      "Column: thscode, Type: TEXT\n",
      "Column: open, Type: REAL\n",
      "Column: high, Type: REAL\n",
      "Column: low, Type: REAL\n",
      "Column: close, Type: REAL\n",
      "Column: avgPrice, Type: REAL\n",
      "Column: volume, Type: REAL\n",
      "Column: amount, Type: REAL\n",
      "Column: change, Type: REAL\n",
      "Column: changeRatio, Type: REAL\n",
      "Column: turnoverRatio, Type: REAL\n",
      "Column: sellVolume, Type: INTEGER\n",
      "Column: buyVolume, Type: INTEGER\n",
      "Column: BBI, Type: REAL\n",
      "Column: MA, Type: REAL\n",
      "Column: MACD, Type: REAL\n",
      "Column: TRIX, Type: REAL\n",
      "Column: RSI, Type: REAL\n",
      "Column: ARBR, Type: REAL\n",
      "Column: BOLL, Type: REAL\n",
      "Column: VOSC, Type: REAL\n",
      "Column: ZDZB, Type: REAL\n",
      "\n",
      "\n",
      "Table:  basic\n",
      "Row count:  5295\n",
      "Column: thscode, Type: TEXT\n",
      "Column: ths_stock_code_stock, Type: TEXT\n",
      "Column: ths_listedsector_stock, Type: TEXT\n",
      "Column: ths_operating_scope_stock, Type: TEXT\n",
      "Column: ths_main_businuess_stock, Type: TEXT\n",
      "Column: ths_total_shares_stock, Type: REAL\n",
      "Column: ths_float_ashare_stock, Type: REAL\n",
      "Column: ths_fore_eps_fy1_stock, Type: REAL\n",
      "Column: ths_fore_mbi_fy1_stock, Type: REAL\n",
      "Column: ths_pe_ttm_stock, Type: REAL\n",
      "Column: ths_pb_mrq_stock, Type: REAL\n",
      "\n",
      "\n",
      "Table:  Security_name\n",
      "Row count:  5288\n",
      "Column: THSCODE, Type: TEXT\n",
      "Column: SECURITY_NAME, Type: TEXT\n",
      "\n",
      "\n",
      "Table:  AStockMain_Factors\n",
      "Row count:  102204\n",
      "Column: thscode, Type: TEXT\n",
      "Column: ths_stock_short_name_stock, Type: TEXT\n",
      "Column: ths_controlling_holder_held_ratio_stock, Type: TEXT\n",
      "Column: ths_the_sw_industry_index_code_stock, Type: TEXT\n",
      "Column: ths_bod_num_stock, Type: INTEGER\n",
      "Column: ths_techcore_num_stock, Type: REAL\n",
      "Column: ths_chairman_held_num_stock, Type: TEXT\n",
      "Column: ths_top10_hlolder_held_ratio_stock, Type: REAL\n",
      "Column: ths_float_holder_held_ratio_stock, Type: REAL\n",
      "Column: ths_accounts_payable_pit_stock, Type: REAL\n",
      "Column: ths_operating_total_revenue_pit_stock, Type: REAL\n",
      "Column: ths_shhk_to_float_shares_stock, Type: REAL\n",
      "Column: ths_eps_basic_stock, Type: REAL\n",
      "Column: ths_nav_ps_stock, Type: REAL\n",
      "Column: ths_oips_stock, Type: REAL\n",
      "Column: ths_fore_eps_fy1_stock, Type: REAL\n",
      "Column: ths_pe_lyr_stock, Type: REAL\n",
      "Column: ths_pb_mrq_stock, Type: REAL\n",
      "Column: ths_dividend_rate_stock_stock, Type: REAL\n",
      "Column: ths_open_price_stock, Type: TEXT\n",
      "Column: ths_high_price_stock, Type: TEXT\n",
      "Column: ths_low_stock, Type: TEXT\n",
      "Column: ths_close_price_stock, Type: TEXT\n",
      "Column: ths_chg_ratio_stock, Type: TEXT\n",
      "Column: ths_chg_stock, Type: TEXT\n",
      "Column: ths_vol_btin_stock, Type: TEXT\n",
      "Column: ths_amt_btin_stock, Type: TEXT\n",
      "Column: ths_trans_num_stock, Type: TEXT\n",
      "Column: ths_vaild_turnover_stock, Type: TEXT\n",
      "Column: ths_up_days_stock, Type: REAL\n",
      "Column: ths_down_days_stock, Type: REAL\n",
      "Column: ths_down_valid_break_ma_stock, Type: INTEGER\n",
      "Column: ths_up_valid_break_ma_stock, Type: INTEGER\n",
      "Column: ths_vol_ratio_stock, Type: TEXT\n",
      "Column: ths_vma_stock, Type: TEXT\n",
      "Column: ths_vstd_stock, Type: REAL\n",
      "Column: ths_arbr_stock, Type: REAL\n",
      "Column: ths_mfi_stock, Type: REAL\n",
      "Column: ths_ddi_stock, Type: REAL\n",
      "Column: ths_macd_stock, Type: REAL\n",
      "Column: ths_rsi_stock, Type: REAL\n",
      "Column: ths_adtm_stock, Type: REAL\n",
      "Column: ths_boll_stock, Type: REAL\n",
      "Column: ths_dptb_stock, Type: REAL\n",
      "Column: ths_mi_stock, Type: REAL\n",
      "Column: ths_std_stock, Type: REAL\n",
      "Column: ths_company_patent_quantity_stock, Type: REAL\n",
      "\n",
      "\n",
      "Table:  zhangtinggu\n",
      "Row count:  7050937\n",
      "Column: time, Type: TEXT\n",
      "Column: thscode, Type: TEXT\n",
      "Column: open, Type: REAL\n",
      "Column: high, Type: REAL\n",
      "Column: low, Type: REAL\n",
      "Column: close, Type: REAL\n",
      "Column: avgPrice, Type: REAL\n",
      "Column: volume, Type: REAL\n",
      "Column: amount, Type: REAL\n",
      "Column: change, Type: REAL\n",
      "Column: changeRatio, Type: REAL\n",
      "Column: turnoverRatio, Type: REAL\n",
      "Column: sellVolume, Type: REAL\n",
      "Column: buyVolume, Type: REAL\n",
      "Column: BBI, Type: REAL\n",
      "Column: MA, Type: REAL\n",
      "Column: MACD, Type: REAL\n",
      "Column: TRIX, Type: REAL\n",
      "Column: RSI, Type: REAL\n",
      "Column: ARBR, Type: REAL\n",
      "Column: BOLL, Type: REAL\n",
      "Column: VOSC, Type: REAL\n",
      "Column: ZDZB, Type: REAL\n"
     ]
    }
   ],
   "source": [
    "conn = sqlite3.connect(db_path)\n",
    "cursor = conn.cursor()\n",
    "cursor.execute(\"SELECT name FROM sqlite_master WHERE type='table';\")\n",
    "tables = cursor.fetchall()\n",
    "\n",
    "# 遍历表名并获取每个表的列信息\n",
    "for table in tables:\n",
    "    table_name = table[0]\n",
    "    print(\"Table: \", table_name)\n",
    "\n",
    "    cursor.execute(\"SELECT COUNT(*) FROM {}\".format(table_name))\n",
    "    row_count = cursor.fetchone()[0]\n",
    "    print(\"Row count: \", row_count)\n",
    "\n",
    "    cursor.execute(\"PRAGMA table_info({})\".format(table_name))\n",
    "    columns = cursor.fetchall()\n",
    "    for column in columns:\n",
    "        column_name = column[1]\n",
    "        column_type = column[2]\n",
    "        print(\"Column: {}, Type: {}\".format(column_name, column_type))\n",
    "\n",
    "    print(\"\\n\")\n",
    "conn.close()\n"
   ],
   "metadata": {
    "collapsed": false,
    "pycharm": {
     "name": "#%%\n"
    },
    "ExecuteTime": {
     "end_time": "2023-11-02T02:00:24.333435700Z",
     "start_time": "2023-11-02T02:00:17.774996600Z"
    }
   }
  },
  {
   "cell_type": "code",
   "execution_count": 7,
   "outputs": [
    {
     "data": {
      "text/plain": "       thscode SECURITY_NAME               min\n0    000004.SZ          国华网安  2023-08-21 09:30\n1    000010.SZ          美丽生态  2023-08-21 09:30\n2    000023.SZ          ST深天  2023-08-21 09:30\n3    000025.SZ           特力A  2023-08-21 09:30\n4    000046.SZ         *ST泛海  2023-08-21 09:30\n..         ...           ...               ...\n309  688356.SH          键凯科技  2023-08-21 09:30\n310  688418.SH          震有科技  2023-08-21 09:30\n311  688523.SH          航天环宇  2023-08-21 09:30\n312  688629.SH          华丰科技  2023-08-21 09:30\n313  688687.SH          凯因科技  2023-08-21 09:30\n\n[314 rows x 3 columns]",
      "text/html": "<div>\n<style scoped>\n    .dataframe tbody tr th:only-of-type {\n        vertical-align: middle;\n    }\n\n    .dataframe tbody tr th {\n        vertical-align: top;\n    }\n\n    .dataframe thead th {\n        text-align: right;\n    }\n</style>\n<table border=\"1\" class=\"dataframe\">\n  <thead>\n    <tr style=\"text-align: right;\">\n      <th></th>\n      <th>thscode</th>\n      <th>SECURITY_NAME</th>\n      <th>min</th>\n    </tr>\n  </thead>\n  <tbody>\n    <tr>\n      <th>0</th>\n      <td>000004.SZ</td>\n      <td>国华网安</td>\n      <td>2023-08-21 09:30</td>\n    </tr>\n    <tr>\n      <th>1</th>\n      <td>000010.SZ</td>\n      <td>美丽生态</td>\n      <td>2023-08-21 09:30</td>\n    </tr>\n    <tr>\n      <th>2</th>\n      <td>000023.SZ</td>\n      <td>ST深天</td>\n      <td>2023-08-21 09:30</td>\n    </tr>\n    <tr>\n      <th>3</th>\n      <td>000025.SZ</td>\n      <td>特力A</td>\n      <td>2023-08-21 09:30</td>\n    </tr>\n    <tr>\n      <th>4</th>\n      <td>000046.SZ</td>\n      <td>*ST泛海</td>\n      <td>2023-08-21 09:30</td>\n    </tr>\n    <tr>\n      <th>...</th>\n      <td>...</td>\n      <td>...</td>\n      <td>...</td>\n    </tr>\n    <tr>\n      <th>309</th>\n      <td>688356.SH</td>\n      <td>键凯科技</td>\n      <td>2023-08-21 09:30</td>\n    </tr>\n    <tr>\n      <th>310</th>\n      <td>688418.SH</td>\n      <td>震有科技</td>\n      <td>2023-08-21 09:30</td>\n    </tr>\n    <tr>\n      <th>311</th>\n      <td>688523.SH</td>\n      <td>航天环宇</td>\n      <td>2023-08-21 09:30</td>\n    </tr>\n    <tr>\n      <th>312</th>\n      <td>688629.SH</td>\n      <td>华丰科技</td>\n      <td>2023-08-21 09:30</td>\n    </tr>\n    <tr>\n      <th>313</th>\n      <td>688687.SH</td>\n      <td>凯因科技</td>\n      <td>2023-08-21 09:30</td>\n    </tr>\n  </tbody>\n</table>\n<p>314 rows × 3 columns</p>\n</div>"
     },
     "execution_count": 7,
     "metadata": {},
     "output_type": "execute_result"
    }
   ],
   "source": [
    "conn = sqlite3.connect(db_path)\n",
    "cursor = conn.cursor()\n",
    "cursor.execute(\"SELECT l.thscode, s.SECURITY_NAME, min(l.time) FROM zhangtinggu l join Security_name s on l.thscode = s.THSCODE group by 1,2\")\n",
    "result = cursor.fetchall()\n",
    "conn.close()\n",
    "df = pd.DataFrame(result, columns=['thscode','SECURITY_NAME','min'])\n",
    "df"
   ],
   "metadata": {
    "collapsed": false,
    "ExecuteTime": {
     "end_time": "2023-11-02T02:07:48.304905Z",
     "start_time": "2023-11-02T02:07:39.482503400Z"
    }
   }
  },
  {
   "cell_type": "code",
   "execution_count": 14,
   "outputs": [
    {
     "data": {
      "text/plain": "                   0          1     2     3     4     5         6          7   \\\n0    2023-10-31 09:30  002235.SZ  7.71  7.71  7.71  7.71  7.710000   604000.0   \n1    2023-10-31 09:30  002235.SZ  7.71  7.71  7.71  7.71  7.710000   604000.0   \n2    2023-10-31 09:31  002235.SZ  7.74  7.85  7.72  7.75  7.766012  1766100.0   \n3    2023-10-31 09:31  002235.SZ  7.74  7.85  7.72  7.75  7.766012  1766100.0   \n4    2023-10-31 09:32  002235.SZ  7.75  7.82  7.75  7.81  7.785275   757900.0   \n..                ...        ...   ...   ...   ...   ...       ...        ...   \n477  2023-10-31 14:58  002235.SZ  7.67  7.67  7.67  7.67  7.670000    29800.0   \n478  2023-10-31 14:59  002235.SZ  7.67  7.67  7.67  7.67       NaN        0.0   \n479  2023-10-31 14:59  002235.SZ  7.67  7.67  7.67  7.67       NaN        0.0   \n480  2023-10-31 15:00  002235.SZ  7.67  7.67  7.67  7.67  7.670000   600700.0   \n481  2023-10-31 15:00  002235.SZ  7.67  7.67  7.67  7.67  7.670000   600700.0   \n\n             8     9   ...        14     15        16        17         18  \\\n0     4656840.0 -0.12  ...  7.805833  7.806 -0.009051 -0.005652   9.564560   \n1     4656840.0 -0.12  ...  7.668854  7.676  0.012547  0.018906  91.059752   \n2    13715553.0  0.04  ...  7.794062  7.790 -0.012827 -0.010817  32.604766   \n3    13715553.0  0.04  ...  7.682708  7.694  0.018130  0.024016  95.070565   \n4     5900460.0  0.06  ...  7.791250  7.786 -0.010853 -0.013662  53.794112   \n..          ...   ...  ...       ...    ...       ...       ...        ...   \n477    228566.0  0.01  ...  7.657917  7.662  0.008742  0.015474  72.231990   \n478         0.0  0.00  ...  7.659375  7.664  0.009120  0.016033  72.231990   \n479         0.0  0.00  ...  7.659375  7.664  0.009120  0.016033  72.231990   \n480   4607369.0  0.00  ...  7.661250  7.666  0.009312  0.016571  72.231990   \n481   4607369.0  0.00  ...  7.661250  7.666  0.009312  0.016571  72.231990   \n\n             19        20         21        22    23  \n0    107.692308  7.769130  27.462074  2.325036  安妮股份  \n1     82.352941  7.621944  28.043149  2.342817  安妮股份  \n2    160.000000  7.760314  31.520424  2.342817  安妮股份  \n3    138.888889  7.608920  34.110485  2.360597  安妮股份  \n4    214.285714  7.760077  33.351525  2.360597  安妮股份  \n..          ...       ...        ...       ...   ...  \n477   80.000000  7.629249  26.865669  2.272605  安妮股份  \n478   84.210526  7.629341  24.311123  2.307255  安妮股份  \n479   84.210526  7.629341  24.311123  2.307255  安妮股份  \n480   83.333333  7.628876  24.655420  2.325036  安妮股份  \n481   83.333333  7.628876  24.655420  2.325036  安妮股份  \n\n[482 rows x 24 columns]",
      "text/html": "<div>\n<style scoped>\n    .dataframe tbody tr th:only-of-type {\n        vertical-align: middle;\n    }\n\n    .dataframe tbody tr th {\n        vertical-align: top;\n    }\n\n    .dataframe thead th {\n        text-align: right;\n    }\n</style>\n<table border=\"1\" class=\"dataframe\">\n  <thead>\n    <tr style=\"text-align: right;\">\n      <th></th>\n      <th>0</th>\n      <th>1</th>\n      <th>2</th>\n      <th>3</th>\n      <th>4</th>\n      <th>5</th>\n      <th>6</th>\n      <th>7</th>\n      <th>8</th>\n      <th>9</th>\n      <th>...</th>\n      <th>14</th>\n      <th>15</th>\n      <th>16</th>\n      <th>17</th>\n      <th>18</th>\n      <th>19</th>\n      <th>20</th>\n      <th>21</th>\n      <th>22</th>\n      <th>23</th>\n    </tr>\n  </thead>\n  <tbody>\n    <tr>\n      <th>0</th>\n      <td>2023-10-31 09:30</td>\n      <td>002235.SZ</td>\n      <td>7.71</td>\n      <td>7.71</td>\n      <td>7.71</td>\n      <td>7.71</td>\n      <td>7.710000</td>\n      <td>604000.0</td>\n      <td>4656840.0</td>\n      <td>-0.12</td>\n      <td>...</td>\n      <td>7.805833</td>\n      <td>7.806</td>\n      <td>-0.009051</td>\n      <td>-0.005652</td>\n      <td>9.564560</td>\n      <td>107.692308</td>\n      <td>7.769130</td>\n      <td>27.462074</td>\n      <td>2.325036</td>\n      <td>安妮股份</td>\n    </tr>\n    <tr>\n      <th>1</th>\n      <td>2023-10-31 09:30</td>\n      <td>002235.SZ</td>\n      <td>7.71</td>\n      <td>7.71</td>\n      <td>7.71</td>\n      <td>7.71</td>\n      <td>7.710000</td>\n      <td>604000.0</td>\n      <td>4656840.0</td>\n      <td>-0.12</td>\n      <td>...</td>\n      <td>7.668854</td>\n      <td>7.676</td>\n      <td>0.012547</td>\n      <td>0.018906</td>\n      <td>91.059752</td>\n      <td>82.352941</td>\n      <td>7.621944</td>\n      <td>28.043149</td>\n      <td>2.342817</td>\n      <td>安妮股份</td>\n    </tr>\n    <tr>\n      <th>2</th>\n      <td>2023-10-31 09:31</td>\n      <td>002235.SZ</td>\n      <td>7.74</td>\n      <td>7.85</td>\n      <td>7.72</td>\n      <td>7.75</td>\n      <td>7.766012</td>\n      <td>1766100.0</td>\n      <td>13715553.0</td>\n      <td>0.04</td>\n      <td>...</td>\n      <td>7.794062</td>\n      <td>7.790</td>\n      <td>-0.012827</td>\n      <td>-0.010817</td>\n      <td>32.604766</td>\n      <td>160.000000</td>\n      <td>7.760314</td>\n      <td>31.520424</td>\n      <td>2.342817</td>\n      <td>安妮股份</td>\n    </tr>\n    <tr>\n      <th>3</th>\n      <td>2023-10-31 09:31</td>\n      <td>002235.SZ</td>\n      <td>7.74</td>\n      <td>7.85</td>\n      <td>7.72</td>\n      <td>7.75</td>\n      <td>7.766012</td>\n      <td>1766100.0</td>\n      <td>13715553.0</td>\n      <td>0.04</td>\n      <td>...</td>\n      <td>7.682708</td>\n      <td>7.694</td>\n      <td>0.018130</td>\n      <td>0.024016</td>\n      <td>95.070565</td>\n      <td>138.888889</td>\n      <td>7.608920</td>\n      <td>34.110485</td>\n      <td>2.360597</td>\n      <td>安妮股份</td>\n    </tr>\n    <tr>\n      <th>4</th>\n      <td>2023-10-31 09:32</td>\n      <td>002235.SZ</td>\n      <td>7.75</td>\n      <td>7.82</td>\n      <td>7.75</td>\n      <td>7.81</td>\n      <td>7.785275</td>\n      <td>757900.0</td>\n      <td>5900460.0</td>\n      <td>0.06</td>\n      <td>...</td>\n      <td>7.791250</td>\n      <td>7.786</td>\n      <td>-0.010853</td>\n      <td>-0.013662</td>\n      <td>53.794112</td>\n      <td>214.285714</td>\n      <td>7.760077</td>\n      <td>33.351525</td>\n      <td>2.360597</td>\n      <td>安妮股份</td>\n    </tr>\n    <tr>\n      <th>...</th>\n      <td>...</td>\n      <td>...</td>\n      <td>...</td>\n      <td>...</td>\n      <td>...</td>\n      <td>...</td>\n      <td>...</td>\n      <td>...</td>\n      <td>...</td>\n      <td>...</td>\n      <td>...</td>\n      <td>...</td>\n      <td>...</td>\n      <td>...</td>\n      <td>...</td>\n      <td>...</td>\n      <td>...</td>\n      <td>...</td>\n      <td>...</td>\n      <td>...</td>\n      <td>...</td>\n    </tr>\n    <tr>\n      <th>477</th>\n      <td>2023-10-31 14:58</td>\n      <td>002235.SZ</td>\n      <td>7.67</td>\n      <td>7.67</td>\n      <td>7.67</td>\n      <td>7.67</td>\n      <td>7.670000</td>\n      <td>29800.0</td>\n      <td>228566.0</td>\n      <td>0.01</td>\n      <td>...</td>\n      <td>7.657917</td>\n      <td>7.662</td>\n      <td>0.008742</td>\n      <td>0.015474</td>\n      <td>72.231990</td>\n      <td>80.000000</td>\n      <td>7.629249</td>\n      <td>26.865669</td>\n      <td>2.272605</td>\n      <td>安妮股份</td>\n    </tr>\n    <tr>\n      <th>478</th>\n      <td>2023-10-31 14:59</td>\n      <td>002235.SZ</td>\n      <td>7.67</td>\n      <td>7.67</td>\n      <td>7.67</td>\n      <td>7.67</td>\n      <td>NaN</td>\n      <td>0.0</td>\n      <td>0.0</td>\n      <td>0.00</td>\n      <td>...</td>\n      <td>7.659375</td>\n      <td>7.664</td>\n      <td>0.009120</td>\n      <td>0.016033</td>\n      <td>72.231990</td>\n      <td>84.210526</td>\n      <td>7.629341</td>\n      <td>24.311123</td>\n      <td>2.307255</td>\n      <td>安妮股份</td>\n    </tr>\n    <tr>\n      <th>479</th>\n      <td>2023-10-31 14:59</td>\n      <td>002235.SZ</td>\n      <td>7.67</td>\n      <td>7.67</td>\n      <td>7.67</td>\n      <td>7.67</td>\n      <td>NaN</td>\n      <td>0.0</td>\n      <td>0.0</td>\n      <td>0.00</td>\n      <td>...</td>\n      <td>7.659375</td>\n      <td>7.664</td>\n      <td>0.009120</td>\n      <td>0.016033</td>\n      <td>72.231990</td>\n      <td>84.210526</td>\n      <td>7.629341</td>\n      <td>24.311123</td>\n      <td>2.307255</td>\n      <td>安妮股份</td>\n    </tr>\n    <tr>\n      <th>480</th>\n      <td>2023-10-31 15:00</td>\n      <td>002235.SZ</td>\n      <td>7.67</td>\n      <td>7.67</td>\n      <td>7.67</td>\n      <td>7.67</td>\n      <td>7.670000</td>\n      <td>600700.0</td>\n      <td>4607369.0</td>\n      <td>0.00</td>\n      <td>...</td>\n      <td>7.661250</td>\n      <td>7.666</td>\n      <td>0.009312</td>\n      <td>0.016571</td>\n      <td>72.231990</td>\n      <td>83.333333</td>\n      <td>7.628876</td>\n      <td>24.655420</td>\n      <td>2.325036</td>\n      <td>安妮股份</td>\n    </tr>\n    <tr>\n      <th>481</th>\n      <td>2023-10-31 15:00</td>\n      <td>002235.SZ</td>\n      <td>7.67</td>\n      <td>7.67</td>\n      <td>7.67</td>\n      <td>7.67</td>\n      <td>7.670000</td>\n      <td>600700.0</td>\n      <td>4607369.0</td>\n      <td>0.00</td>\n      <td>...</td>\n      <td>7.661250</td>\n      <td>7.666</td>\n      <td>0.009312</td>\n      <td>0.016571</td>\n      <td>72.231990</td>\n      <td>83.333333</td>\n      <td>7.628876</td>\n      <td>24.655420</td>\n      <td>2.325036</td>\n      <td>安妮股份</td>\n    </tr>\n  </tbody>\n</table>\n<p>482 rows × 24 columns</p>\n</div>"
     },
     "execution_count": 14,
     "metadata": {},
     "output_type": "execute_result"
    }
   ],
   "source": [
    "conn = sqlite3.connect(db_path)\n",
    "cursor = conn.cursor()\n",
    "cursor.execute(\"SELECT l.*, s.SECURITY_NAME FROM zhangtinggu l join Security_name s on l.thscode = s.THSCODE where l.thscode like '002235%' and l.time like '2023-10-31%' order by l.time\")\n",
    "result = cursor.fetchall()\n",
    "conn.close()\n",
    "df = pd.DataFrame(result)\n",
    "df"
   ],
   "metadata": {
    "collapsed": false,
    "ExecuteTime": {
     "end_time": "2023-11-02T02:33:57.454302300Z",
     "start_time": "2023-11-02T02:33:56.195667Z"
    }
   }
  }
 ],
 "metadata": {
  "kernelspec": {
   "display_name": "Python 3",
   "language": "python",
   "name": "python3"
  },
  "language_info": {
   "codemirror_mode": {
    "name": "ipython",
    "version": 2
   },
   "file_extension": ".py",
   "mimetype": "text/x-python",
   "name": "python",
   "nbconvert_exporter": "python",
   "pygments_lexer": "ipython2",
   "version": "2.7.6"
  }
 },
 "nbformat": 4,
 "nbformat_minor": 0
}
